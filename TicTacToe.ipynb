{
 "cells": [
  {
   "cell_type": "code",
   "execution_count": 1,
   "id": "together-first",
   "metadata": {},
   "outputs": [],
   "source": [
    "from IPython.display import clear_output\n",
    "gameData = [' ',' ',' ',' ',' ',' ',' ',' ',' ']\n",
    "\n",
    "def displayBoard():\n",
    "    print(f'     |     |     ')\n",
    "    print(f'  {gameData[0]}  |  {gameData[1]}  |  {gameData[2]}  ')\n",
    "    print(f'_____|_____|_____')\n",
    "    print(f'     |     |     ')\n",
    "    print(f'  {gameData[3]}  |  {gameData[4]}  |  {gameData[5]}  ')\n",
    "    print(f'_____|_____|_____')\n",
    "    print(f'     |     |     ')\n",
    "    print(f'  {gameData[6]}  |  {gameData[7]}  |  {gameData[8]}  ')\n",
    "    print(f'     |     |     ')\n",
    "    \n",
    "def playerData():\n",
    "    playerOneName = input('Enter Player 1 Name: ')\n",
    "    playerOneChoice = ''\n",
    "    playerTwoChoice = ''\n",
    "    while playerOneChoice not in ['X','O']:\n",
    "        playerOneChoice = input(f'Hello {playerOneName}, Please enter your choice (X or O): ')\n",
    "    playerTwoName = input('Enter Player 2 Name: ')\n",
    "    playerTwoChoice = 'X' if playerOneChoice == 'O' else 'O'\n",
    "    return playerOneName,playerOneChoice,playerTwoName,playerTwoChoice\n",
    "\n",
    "def ifWinner(playerName, playerChoice):\n",
    "    global gameData\n",
    "    if gameData[0] == gameData[1] == gameData[2] == playerChoice or gameData[3] == gameData[4] == gameData[5] == playerChoice or gameData[6] == gameData[7] == gameData[8] == playerChoice or gameData[0] == gameData[3] == gameData[6] == playerChoice or gameData[1] == gameData[4] == gameData[7] == playerChoice or gameData[2] == gameData[5] == gameData[8] == playerChoice or gameData[0] == gameData[4] == gameData[8] == playerChoice or gameData[2] == gameData[4] == gameData[6] == playerChoice:\n",
    "        clear_output(wait=True)\n",
    "        displayBoard()\n",
    "        print('GAME OVER!')\n",
    "        print(f'Congratulations,{playerName} Wins!')\n",
    "        gameData = [' ',' ',' ',' ',' ',' ',' ',' ',' ']\n",
    "        return True\n",
    "    else:\n",
    "        return False\n",
    "\n",
    "def digitValidator(index, playerName, playerChoice):\n",
    "    if index.isdigit():\n",
    "        if gameData[int(index) - 1] == ' ':\n",
    "            gameData[int(index) - 1] = playerChoice\n",
    "        else:\n",
    "            index = input(f\"Invalid Index {playerName}!, Choose a number (1-9):\")\n",
    "            digitValidator(index, playerName, playerChoice)\n",
    "    else:\n",
    "        index = input(f\"Invalid Choice {playerName}!, Choose a number (1-9):\")\n",
    "        digitValidator(index, playerName, playerChoice)\n",
    "        \n",
    "def gameOn():\n",
    "    displayBoard()\n",
    "    playerOneName,playerOneChoice,playerTwoName,playerTwoChoice = playerData()\n",
    "    player = 1\n",
    "    while gameData.count(' ') > 0:\n",
    "        if player == 1:\n",
    "            playerName = playerOneName\n",
    "            playerChoice = playerOneChoice\n",
    "        else:\n",
    "            playerName = playerTwoName\n",
    "            playerChoice = playerTwoChoice\n",
    "        clear_output(wait=True)\n",
    "        displayBoard()\n",
    "        index = input(f\"{playerName}'s Turn, Choose Index (1-9):\")\n",
    "        digitValidator(index, playerName, playerChoice)       \n",
    "        if ifWinner(playerName,playerChoice):\n",
    "            break\n",
    "        player = 2 if player == 1 else 1"
   ]
  },
  {
   "cell_type": "code",
   "execution_count": 2,
   "id": "limiting-armor",
   "metadata": {},
   "outputs": [
    {
     "name": "stdout",
     "output_type": "stream",
     "text": [
      "     |     |     \n",
      "  O  |  X  |  O  \n",
      "_____|_____|_____\n",
      "     |     |     \n",
      "  X  |  O  |  X  \n",
      "_____|_____|_____\n",
      "     |     |     \n",
      "  O  |     |     \n",
      "     |     |     \n",
      "Game Over! Congratulations,aaa Wins!\n"
     ]
    }
   ],
   "source": [
    "gameOn()"
   ]
  }
 ],
 "metadata": {
  "kernelspec": {
   "display_name": "Python 3",
   "language": "python",
   "name": "python3"
  },
  "language_info": {
   "codemirror_mode": {
    "name": "ipython",
    "version": 3
   },
   "file_extension": ".py",
   "mimetype": "text/x-python",
   "name": "python",
   "nbconvert_exporter": "python",
   "pygments_lexer": "ipython3",
   "version": "3.8.5"
  }
 },
 "nbformat": 4,
 "nbformat_minor": 5
}
